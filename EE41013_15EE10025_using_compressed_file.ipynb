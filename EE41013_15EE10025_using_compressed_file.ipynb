{
 "cells": [
  {
   "cell_type": "code",
   "execution_count": 1,
   "metadata": {},
   "outputs": [
    {
     "name": "stderr",
     "output_type": "stream",
     "text": [
      "/usr/lib/python3.5/importlib/_bootstrap.py:222: RuntimeWarning: numpy.dtype size changed, may indicate binary incompatibility. Expected 96, got 88\n",
      "  return f(*args, **kwds)\n",
      "/usr/lib/python3.5/importlib/_bootstrap.py:222: RuntimeWarning: numpy.dtype size changed, may indicate binary incompatibility. Expected 96, got 88\n",
      "  return f(*args, **kwds)\n"
     ]
    }
   ],
   "source": [
    "import math \n",
    "import cmath\n",
    "import matplotlib.pyplot as plt\n",
    "import random\n",
    "import numpy as np\n",
    "import scipy\n",
    "from scipy.io import wavfile\n",
    "import pywt\n",
    "from scipy.fftpack import fft,ifft,dct,idct"
   ]
  },
  {
   "cell_type": "code",
   "execution_count": 2,
   "metadata": {},
   "outputs": [],
   "source": [
    "fs,dat = wavfile.read('audio.wav')\n",
    "\n",
    "n=math.log(len(dat))/math.log(2)\n",
    "num_of_samples=2**(int(n))\n",
    "\n",
    "data=[]\n",
    "\n",
    "for i in range(num_of_samples):\n",
    "    data.append(dat[i])"
   ]
  },
  {
   "cell_type": "code",
   "execution_count": 3,
   "metadata": {},
   "outputs": [],
   "source": [
    "num_of_zeros=[]\n",
    "for i in range(int(num_of_samples/10000)):\n",
    "    num_of_zeros.append(i*10000)"
   ]
  },
  {
   "cell_type": "code",
   "execution_count": 4,
   "metadata": {},
   "outputs": [],
   "source": [
    "cosine_transform=dct(data,norm='ortho')"
   ]
  },
  {
   "cell_type": "code",
   "execution_count": 5,
   "metadata": {},
   "outputs": [],
   "source": [
    "def cosine_transform_error(revert_cos_seq):\n",
    "    \n",
    "    revert_cos_seq=np.array(revert_cos_seq)\n",
    "    \n",
    "    err_dct=0\n",
    "    \n",
    "    for i in range(num_of_samples):\n",
    "        err_dct=err_dct+((data[i]-revert_cos_seq[i])**2)\n",
    "    \n",
    "    err_dct=err_dct/num_of_samples\n",
    "    return err_dct\n",
    "        "
   ]
  },
  {
   "cell_type": "code",
   "execution_count": 6,
   "metadata": {},
   "outputs": [],
   "source": [
    "def compressed_cos_transform(zero):\n",
    "    \n",
    "    file=open('compressed_cosine_transform'+str(zero)+'.txt','w')\n",
    "    \n",
    "    for i in range(num_of_samples-zero):\n",
    "        file.write(str(cosine_transform[i]))\n",
    "        file.write(' ')\n",
    "                   \n",
    "    file.close()"
   ]
  },
  {
   "cell_type": "code",
   "execution_count": 7,
   "metadata": {},
   "outputs": [],
   "source": [
    "def uncompress_cos_tranform(zero):\n",
    "    file=open('compressed_cosine_transform'+str(zero)+'.txt','r')\n",
    "    \n",
    "    uncomp_cos_tran=[]\n",
    "    \n",
    "    for word in file:\n",
    "        for value in word.split():\n",
    "            uncomp_cos_tran.append(float(value))\n",
    "    \n",
    "    for i in range(zero):\n",
    "        uncomp_cos_tran.append(0)\n",
    "    \n",
    "    revert_cos_seq=idct(uncomp_cos_tran,norm='ortho')\n",
    "    scipy.io.wavfile.write(('reverted_cosine'+str(zeros)+'.wav'),fs,revert_cos_seq/num_of_samples)\n",
    "    return revert_cos_seq\n",
    "        \n",
    "        "
   ]
  },
  {
   "cell_type": "code",
   "execution_count": 8,
   "metadata": {},
   "outputs": [],
   "source": [
    "E_DCT=[]\n",
    "for zeros in num_of_zeros:    \n",
    "    \n",
    "    compressed_cos_transform(zeros)\n",
    "    \n",
    "    reverted_cos_seq=uncompress_cos_tranform(zeros)\n",
    "        \n",
    "    error=cosine_transform_error(reverted_cos_seq)\n",
    "    \n",
    "    E_DCT.append(error)    "
   ]
  },
  {
   "cell_type": "code",
   "execution_count": 9,
   "metadata": {},
   "outputs": [],
   "source": [
    "hr_transform=pywt.dwt(data,'haar')"
   ]
  },
  {
   "cell_type": "code",
   "execution_count": 10,
   "metadata": {},
   "outputs": [],
   "source": [
    "def haar_transform_error(revert_hr_seq):\n",
    "    \n",
    "    revert_hr_seq=np.array(revert_hr_seq)\n",
    "    \n",
    "    err_hr=0\n",
    "    \n",
    "    for i in range(num_of_samples):\n",
    "        err_hr=err_hr+((data[i]-revert_hr_seq[i])**2)\n",
    "    \n",
    "    err_hr=err_hr/num_of_samples\n",
    "    return err_hr\n",
    "        "
   ]
  },
  {
   "cell_type": "code",
   "execution_count": 11,
   "metadata": {},
   "outputs": [],
   "source": [
    "def compressed_hr_transform(zero):\n",
    "    seq1=list(hr_transform[0])\n",
    "    seq2=list(hr_transform[1])\n",
    "    seq=seq1+seq2\n",
    "        \n",
    "    file=open('compressed_haar_transform'+str(zero)+'.txt','w')\n",
    "    \n",
    "    for i in range(num_of_samples-zero):\n",
    "        file.write(str(seq[i]))\n",
    "        file.write(' ')\n",
    "                   \n",
    "    file.close()"
   ]
  },
  {
   "cell_type": "code",
   "execution_count": 12,
   "metadata": {},
   "outputs": [],
   "source": [
    "def uncompress_hr_tranform(zero):\n",
    "    file=open('compressed_haar_transform'+str(zero)+'.txt','r')\n",
    "    \n",
    "    uncomp_hr_tran=[]\n",
    "    \n",
    "    for word in file:\n",
    "        for value in word.split():\n",
    "            uncomp_hr_tran.append(float(value))\n",
    "    \n",
    "    for i in range(zero):\n",
    "        uncomp_hr_tran.append(0)\n",
    "        \n",
    "    seq1=[]\n",
    "    seq2=[]\n",
    "    \n",
    "    for i in range(int(num_of_samples/2)):\n",
    "        seq1.append(uncomp_hr_tran[i])\n",
    "        seq2.append(uncomp_hr_tran[int(num_of_samples/2)+i])\n",
    "    \n",
    "    revert_hr_seq=pywt.idwt(seq1,seq2,'haar')\n",
    "    scipy.io.wavfile.write(('reverted_haar'+str(zeros)+'.wav'),fs,revert_hr_seq/num_of_samples)\n",
    "\n",
    "    return revert_hr_seq\n",
    "        \n",
    "        "
   ]
  },
  {
   "cell_type": "code",
   "execution_count": 13,
   "metadata": {},
   "outputs": [],
   "source": [
    "E_haar=[]\n",
    "for zeros in num_of_zeros:    \n",
    "    \n",
    "    compressed_hr_transform(zeros)\n",
    "    \n",
    "    reverted_hr_seq=uncompress_hr_tranform(zeros)\n",
    "        \n",
    "    error=haar_transform_error(reverted_hr_seq)\n",
    "    \n",
    "    E_haar.append(error)    "
   ]
  },
  {
   "cell_type": "code",
   "execution_count": 14,
   "metadata": {},
   "outputs": [],
   "source": [
    "fourier_transform=fft(data)"
   ]
  },
  {
   "cell_type": "code",
   "execution_count": 15,
   "metadata": {},
   "outputs": [],
   "source": [
    "def fourier_transform_error(revert_fou_seq):\n",
    "    \n",
    "    revert_fou_seq=np.array(revert_fou_seq)\n",
    "    \n",
    "    err_fou=0\n",
    "    \n",
    "    for i in range(num_of_samples):\n",
    "        err_fou=err_fou+((data[i]-revert_fou_seq[i])**2)\n",
    "    \n",
    "    err_fou=err_fou/num_of_samples\n",
    "    return err_fou\n",
    "        "
   ]
  },
  {
   "cell_type": "code",
   "execution_count": 16,
   "metadata": {},
   "outputs": [],
   "source": [
    "def compressed_fou_transform(zero):\n",
    "    \n",
    "    file=open('compressed_fourier_transform'+str(zero)+'.txt','w')\n",
    "    \n",
    "    comp_fou_tran=[]\n",
    "    \n",
    "    for i in range(int(num_of_samples/2)-int(zero/2) ):\n",
    "        comp_fou_tran.append(fourier_transform[i])\n",
    "        \n",
    "    for i in range(int(num_of_samples/2)+int(zero/2),num_of_samples):\n",
    "        comp_fou_tran.append(fourier_transform[i])\n",
    "        \n",
    "    for i in range(num_of_samples-zero):\n",
    "        file.write(str(comp_fou_tran[i]))\n",
    "        file.write(' ')\n",
    "                   \n",
    "    file.close()"
   ]
  },
  {
   "cell_type": "code",
   "execution_count": 17,
   "metadata": {},
   "outputs": [],
   "source": [
    "def uncompress_fou_tranform(zero):\n",
    "    file=open('compressed_fourier_transform'+str(zero)+'.txt','r')\n",
    "    \n",
    "    uncomp_fou_tran=[]\n",
    "    \n",
    "    for word in file:\n",
    "        for value in word.split():\n",
    "            uncomp_fou_tran.append(complex(value))\n",
    "    \n",
    "    inv_fou=[]\n",
    "    for i in range(int(num_of_samples/2)-int(zero/2)):\n",
    "        inv_fou.append(uncomp_fou_tran[i])\n",
    "        \n",
    "    for i in range(zero):\n",
    "        inv_fou.append(0)\n",
    "        \n",
    "    for i in range(int(num_of_samples/2)+int(zero/2),num_of_samples):\n",
    "        inv_fou.append(uncomp_fou_tran[i-zero])    \n",
    "    \n",
    "    \n",
    "    revert_fou_seq=np.real(ifft(inv_fou))\n",
    "    scipy.io.wavfile.write(('reverted_fourier'+str(zeros)+'.wav'),fs,revert_fou_seq/num_of_samples)\n",
    "\n",
    "    return revert_fou_seq\n",
    "        \n",
    "        "
   ]
  },
  {
   "cell_type": "code",
   "execution_count": 18,
   "metadata": {},
   "outputs": [],
   "source": [
    "E_fou=[]\n",
    "for zeros in num_of_zeros:    \n",
    "    \n",
    "    compressed_fou_transform(zeros)\n",
    "    \n",
    "    reverted_fou_seq=uncompress_fou_tranform(zeros)\n",
    "        \n",
    "    error=fourier_transform_error(reverted_fou_seq)\n",
    "    \n",
    "    E_fou.append(error)    "
   ]
  },
  {
   "cell_type": "code",
   "execution_count": 19,
   "metadata": {},
   "outputs": [
    {
     "data": {
      "text/plain": [
       "[<matplotlib.lines.Line2D at 0x7fb7ce903d68>]"
      ]
     },
     "execution_count": 19,
     "metadata": {},
     "output_type": "execute_result"
    },
    {
     "data": {
      "image/png": "[encoded data removed]",
      "text/plain": [
       "<Figure size 432x288 with 1 Axes>"
      ]
     },
     "metadata": {},
     "output_type": "display_data"
    }
   ],
   "source": [
    "plt.plot(num_of_zeros,E_DCT,'r')\n",
    "plt.plot(num_of_zeros,E_fou,'g')\n",
    "plt.plot(num_of_zeros,E_haar,'b')"
   ]
  },
  {
   "cell_type": "code",
   "execution_count": null,
   "metadata": {},
   "outputs": [],
   "source": []
  },
  {
   "cell_type": "code",
   "execution_count": null,
   "metadata": {},
   "outputs": [],
   "source": []
  }
 ],
 "metadata": {
  "kernelspec": {
   "display_name": "Python 3",
   "language": "python",
   "name": "python3"
  },
  "language_info": {
   "codemirror_mode": {
    "name": "ipython",
    "version": 3
   },
   "file_extension": ".py",
   "mimetype": "text/x-python",
   "name": "python",
   "nbconvert_exporter": "python",
   "pygments_lexer": "ipython3",
   "version": "3.5.2"
  }
 },
 "nbformat": 4,
 "nbformat_minor": 2
}
