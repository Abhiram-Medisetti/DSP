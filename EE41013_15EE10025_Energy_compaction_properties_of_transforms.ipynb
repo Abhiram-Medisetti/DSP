{
 "cells": [
  {
   "cell_type": "code",
   "execution_count": 1,
   "metadata": {},
   "outputs": [
    {
     "name": "stderr",
     "output_type": "stream",
     "text": [
      "/usr/lib/python3.5/importlib/_bootstrap.py:222: RuntimeWarning: numpy.dtype size changed, may indicate binary incompatibility. Expected 96, got 88\n",
      "  return f(*args, **kwds)\n",
      "/usr/lib/python3.5/importlib/_bootstrap.py:222: RuntimeWarning: numpy.dtype size changed, may indicate binary incompatibility. Expected 96, got 88\n",
      "  return f(*args, **kwds)\n"
     ]
    }
   ],
   "source": [
    "import math \n",
    "import cmath\n",
    "import matplotlib.pyplot as plt\n",
    "import random\n",
    "import numpy as np\n",
    "import scipy\n",
    "from scipy.io import wavfile\n",
    "import pywt\n",
    "from scipy.fftpack import fft,ifft,dct,idct"
   ]
  },
  {
   "cell_type": "code",
   "execution_count": 2,
   "metadata": {},
   "outputs": [],
   "source": [
    "fs,dat = wavfile.read('audio.wav')\n",
    "\n",
    "n=int(math.log(len(dat))/math.log(2))\n",
    "num_of_samples=2**n\n",
    "\n",
    "data=[]\n",
    "\n",
    "for i in range(num_of_samples):\n",
    "    data.append(dat[i])"
   ]
  },
  {
   "cell_type": "code",
   "execution_count": 3,
   "metadata": {},
   "outputs": [],
   "source": [
    "num_of_zeros=[]\n",
    "for i in range(int(num_of_samples/1000)):\n",
    "    num_of_zeros.append(i*1000)"
   ]
  },
  {
   "cell_type": "code",
   "execution_count": 4,
   "metadata": {},
   "outputs": [],
   "source": [
    "cosine_transform=dct(data,norm='ortho')"
   ]
  },
  {
   "cell_type": "code",
   "execution_count": 5,
   "metadata": {},
   "outputs": [],
   "source": [
    "def compressed_cosine_transform(zero):\n",
    "    comp_cos_tran=[]\n",
    "    for i in range(num_of_samples-zero):\n",
    "        comp_cos_tran.append(cosine_transform[i])        \n",
    "    \n",
    "    comp_cos_tran=np.array(comp_cos_tran)\n",
    "    \n",
    "    return comp_cos_tran"
   ]
  },
  {
   "cell_type": "code",
   "execution_count": 6,
   "metadata": {},
   "outputs": [],
   "source": [
    "def inverse_cosine_transform(cos_tran,zero):\n",
    "    \n",
    "    cos_tran=list(cos_tran)\n",
    "    \n",
    "    for i in range(zero):\n",
    "        cos_tran.append(0)\n",
    "    \n",
    "    cos_tran=np.array(cos_tran)\n",
    "\n",
    "    \n",
    "    reverted_seq=idct(cos_tran,norm='ortho')\n",
    "    \n",
    "    return reverted_seq"
   ]
  },
  {
   "cell_type": "code",
   "execution_count": 7,
   "metadata": {},
   "outputs": [],
   "source": [
    "def cosine_transform_error(revert_cos_seq):\n",
    "    \n",
    "    revert_cos_seq=np.array(revert_cos_seq)\n",
    "    \n",
    "    err_dct=0\n",
    "    \n",
    "    for i in range(num_of_samples):\n",
    "        err_dct=err_dct+((data[i]-revert_cos_seq[i])**2)\n",
    "    \n",
    "    err_dct=err_dct/num_of_samples\n",
    "    return err_dct\n",
    "        "
   ]
  },
  {
   "cell_type": "code",
   "execution_count": 8,
   "metadata": {},
   "outputs": [],
   "source": [
    "E_DCT=[]\n",
    "for zeros in num_of_zeros:    \n",
    "    compressed_cos_tran=compressed_cosine_transform(zeros)\n",
    "    \n",
    "    reverted_cos_seq=inverse_cosine_transform(compressed_cos_tran,zeros)\n",
    "    \n",
    "    error=cosine_transform_error(reverted_cos_seq)\n",
    "    \n",
    "    E_DCT.append(error)    "
   ]
  },
  {
   "cell_type": "code",
   "execution_count": 9,
   "metadata": {},
   "outputs": [],
   "source": [
    "hr_transform=pywt.dwt(data,'haar')"
   ]
  },
  {
   "cell_type": "code",
   "execution_count": 10,
   "metadata": {},
   "outputs": [],
   "source": [
    "def compressed_haar_transform(zero):\n",
    "    comp_hr_tran=[]\n",
    "    seq1=list(hr_transform[0])\n",
    "    seq2=list(hr_transform[1])\n",
    "    seq=seq1+seq2\n",
    "    for i in range(num_of_samples-zero) :\n",
    "        comp_hr_tran.append(seq[i])\n",
    "    \n",
    "    comp_hr_tran=np.array(comp_hr_tran)\n",
    "    \n",
    "    return comp_hr_tran"
   ]
  },
  {
   "cell_type": "code",
   "execution_count": 11,
   "metadata": {},
   "outputs": [],
   "source": [
    "def inverse_haar_transform(hr_tran,zero):\n",
    "    hr_tran=list(hr_tran)\n",
    "    \n",
    "    for i in range(zero):\n",
    "        hr_tran.append(0)\n",
    "    seq1=[]\n",
    "    seq2=[]\n",
    "    for i in range(int(num_of_samples/2)):\n",
    "        seq1.append(hr_tran[i])\n",
    "        seq2.append(hr_tran[int(num_of_samples/2)+i])\n",
    "    \n",
    "    reverted_seq=pywt.idwt(seq1,seq2,'haar')\n",
    "    \n",
    "    return reverted_seq"
   ]
  },
  {
   "cell_type": "code",
   "execution_count": 12,
   "metadata": {},
   "outputs": [],
   "source": [
    "def haar_transform_error(revert_hr_seq):\n",
    "    \n",
    "    revert_hr_seq=np.array(revert_hr_seq)\n",
    "    \n",
    "    err_hr=0\n",
    "    \n",
    "    for i in range(num_of_samples):\n",
    "        err_hr=err_hr+((data[i]-revert_hr_seq[i])**2)\n",
    "    \n",
    "    err_hr=err_hr/num_of_samples\n",
    "    return err_hr\n",
    "        "
   ]
  },
  {
   "cell_type": "code",
   "execution_count": 13,
   "metadata": {},
   "outputs": [],
   "source": [
    "E_haar=[]\n",
    "for zeros in num_of_zeros:    \n",
    "    compressed_hr_tran=compressed_haar_transform(zeros)\n",
    "    \n",
    "    reverted_hr_seq=inverse_haar_transform(compressed_hr_tran,zeros)\n",
    "    \n",
    "    error=haar_transform_error(reverted_hr_seq)\n",
    "    \n",
    "    E_haar.append(error)    "
   ]
  },
  {
   "cell_type": "code",
   "execution_count": 14,
   "metadata": {},
   "outputs": [],
   "source": [
    "fourier_transform=fft(data)"
   ]
  },
  {
   "cell_type": "code",
   "execution_count": 15,
   "metadata": {},
   "outputs": [],
   "source": [
    "def compressed_fourier_transform(zero):\n",
    "    comp_fou_tran=[]\n",
    "    \n",
    "    for i in range(int(num_of_samples/2)-int(zero/2) ):\n",
    "        comp_fou_tran.append(fourier_transform[i])\n",
    "        \n",
    "    for i in range(int(num_of_samples/2)+int(zero/2),num_of_samples):\n",
    "        comp_fou_tran.append(fourier_transform[i])\n",
    "   \n",
    "    comp_fou_tran=np.array(comp_fou_tran)\n",
    "    \n",
    "    return comp_fou_tran"
   ]
  },
  {
   "cell_type": "code",
   "execution_count": 16,
   "metadata": {},
   "outputs": [],
   "source": [
    "def inverse_fourier_transform(fou_tran,zero):\n",
    "    \n",
    "    fou_tran=list(fou_tran)\n",
    "    inv_fou=[]\n",
    "    for i in range(int(num_of_samples/2)-int(zero/2)):\n",
    "        inv_fou.append(fou_tran[i])\n",
    "        \n",
    "    for i in range(zero):\n",
    "        inv_fou.append(0)\n",
    "        \n",
    "    for i in range(int(num_of_samples/2)+int(zero/2),num_of_samples):\n",
    "        inv_fou.append(fou_tran[i-zero])    \n",
    "       \n",
    "    inv_fou=np.array(inv_fou)\n",
    "\n",
    "    reverted_seq=ifft(inv_fou)\n",
    "    \n",
    "    return np.real(reverted_seq)"
   ]
  },
  {
   "cell_type": "code",
   "execution_count": 17,
   "metadata": {},
   "outputs": [],
   "source": [
    "def fourier_transform_error(revert_fou_seq):\n",
    "    \n",
    "    revert_fou_seq=np.array(revert_fou_seq)\n",
    "    \n",
    "    err_fou=0\n",
    "    \n",
    "    for i in range(num_of_samples):\n",
    "        err_fou=err_fou+((data[i]-revert_fou_seq[i])**2)\n",
    "    \n",
    "    err_fou=err_fou/num_of_samples\n",
    "    return err_fou\n",
    "        "
   ]
  },
  {
   "cell_type": "code",
   "execution_count": 18,
   "metadata": {},
   "outputs": [],
   "source": [
    "E_fou=[]\n",
    "for zeros in num_of_zeros:    \n",
    "    compressed_fou_tran=compressed_fourier_transform(zeros)\n",
    "    \n",
    "    reverted_fou_seq=inverse_fourier_transform(compressed_fou_tran,zeros)\n",
    "    \n",
    "    error=fourier_transform_error(reverted_fou_seq)\n",
    "    \n",
    "    E_fou.append(error)    "
   ]
  },
  {
   "cell_type": "code",
   "execution_count": 19,
   "metadata": {},
   "outputs": [
    {
     "data": {
      "text/plain": [
       "[<matplotlib.lines.Line2D at 0x7fe706e75cc0>]"
      ]
     },
     "execution_count": 19,
     "metadata": {},
     "output_type": "execute_result"
    },
    {
     "data": {
      "image/png": "[encoded data removed]",
      "text/plain": [
       "<Figure size 432x288 with 1 Axes>"
      ]
     },
     "metadata": {},
     "output_type": "display_data"
    }
   ],
   "source": [
    "plt.plot(num_of_zeros,E_DCT,'r')\n",
    "plt.plot(num_of_zeros,E_fou,'g')\n",
    "plt.plot(num_of_zeros,E_haar,'b')"
   ]
  },
  {
   "cell_type": "code",
   "execution_count": 23,
   "metadata": {},
   "outputs": [
    {
     "data": {
      "text/plain": [
       "[<matplotlib.lines.Line2D at 0x7fe706e2f0f0>]"
      ]
     },
     "execution_count": 23,
     "metadata": {},
     "output_type": "execute_result"
    },
    {
     "data": {
      "image/png": "[encoded data removed]",
      "text/plain": [
       "<Figure size 432x288 with 1 Axes>"
      ]
     },
     "metadata": {},
     "output_type": "display_data"
    }
   ],
   "source": [
    "plt.plot(num_of_zeros,E_DCT,'r')"
   ]
  },
  {
   "cell_type": "code",
   "execution_count": 24,
   "metadata": {},
   "outputs": [
    {
     "data": {
      "text/plain": [
       "[<matplotlib.lines.Line2D at 0x7fe706de6470>]"
      ]
     },
     "execution_count": 24,
     "metadata": {},
     "output_type": "execute_result"
    },
    {
     "data": {
      "image/png": "[encoded data removed]",
      "text/plain": [
       "<Figure size 432x288 with 1 Axes>"
      ]
     },
     "metadata": {},
     "output_type": "display_data"
    }
   ],
   "source": [
    "plt.plot(num_of_zeros,E_fou,'g')"
   ]
  },
  {
   "cell_type": "code",
   "execution_count": 25,
   "metadata": {},
   "outputs": [
    {
     "data": {
      "text/plain": [
       "[<matplotlib.lines.Line2D at 0x7fe706e1e7b8>]"
      ]
     },
     "execution_count": 25,
     "metadata": {},
     "output_type": "execute_result"
    },
    {
     "data": {
      "image/png": "[encoded data removed]",
      "text/plain": [
       "<Figure size 432x288 with 1 Axes>"
      ]
     },
     "metadata": {},
     "output_type": "display_data"
    }
   ],
   "source": [
    "plt.plot(num_of_zeros,E_haar,'b')"
   ]
  },
  {
   "cell_type": "code",
   "execution_count": null,
   "metadata": {},
   "outputs": [],
   "source": []
  }
 ],
 "metadata": {
  "kernelspec": {
   "display_name": "Python 3",
   "language": "python",
   "name": "python3"
  },
  "language_info": {
   "codemirror_mode": {
    "name": "ipython",
    "version": 3
   },
   "file_extension": ".py",
   "mimetype": "text/x-python",
   "name": "python",
   "nbconvert_exporter": "python",
   "pygments_lexer": "ipython3",
   "version": "3.5.2"
  }
 },
 "nbformat": 4,
 "nbformat_minor": 2
}
