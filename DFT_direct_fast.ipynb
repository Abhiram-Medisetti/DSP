{
 "cells": [
  {
   "cell_type": "code",
   "execution_count": 1,
   "metadata": {},
   "outputs": [],
   "source": [
    "import math \n",
    "import cmath\n",
    "import matplotlib.pyplot as plt\n",
    "import random\n",
    "import numpy as np\n",
    "import time\n",
    "num_of_samples=[]\n",
    "for i in range(10):\n",
    "    num_of_samples.append((2**i))\n",
    "number_of_seq=10\n",
    "pi=math.pi\n",
    "imj=complex(0,1)\n"
   ]
  },
  {
   "cell_type": "code",
   "execution_count": 2,
   "metadata": {},
   "outputs": [
    {
     "data": {
      "text/plain": [
       "1j"
      ]
     },
     "execution_count": 2,
     "metadata": {},
     "output_type": "execute_result"
    }
   ],
   "source": [
    "imj"
   ]
  },
  {
   "cell_type": "code",
   "execution_count": 3,
   "metadata": {},
   "outputs": [],
   "source": [
    "class dft(object):\n",
    "    \n",
    "    def __init__(self,sample_num,W_matrix):\n",
    "        for i in range(sample_num):\n",
    "            for j in range(sample_num):\n",
    "                W_matrix[i][j]=(cmath.exp(-2*imj*(pi)*(i*j/sample_num)))\n",
    "        self.W_matrix=W_matrix    \n",
    "    \n",
    "    def transform_direct(self,sample_seq):\n",
    "        self.sample_seq=np.array(sample_seq)\n",
    "        start=time.clock()\n",
    "        self.dft_seq=np.matmul(self.W_matrix,self.sample_seq)\n",
    "        end=time.clock()\n",
    "        return (end-start)\n",
    "    \n",
    "    \n",
    "    def transform_fast(self,sample_seq): \n",
    "        self.sample_seq=np.array(sample_seq)\n",
    "        start=time.clock()\n",
    "        X=np.matmul(self.W_matrix,self.sample_seq)\n",
    "        K=np.conjugate(X[::-1])\n",
    "        self.Dft_seq1=(X+K)/(2)\n",
    "        self.Dft_seq2=(X-K)/(2*imj)\n",
    "        end=time.clock()\n",
    "        return (end-start)\n"
   ]
  },
  {
   "cell_type": "code",
   "execution_count": 4,
   "metadata": {},
   "outputs": [],
   "source": [
    "time_direct=[]\n",
    "time_fast=[]\n",
    "for samp in num_of_samples:\n",
    "    dft_direct_time1=0\n",
    "    dft_direct_time2=0\n",
    "    dft_fast_time=0\n",
    "    for times in range(number_of_seq):\n",
    "        sample_values1=[]\n",
    "        sample_values2=[]\n",
    "        sample_values_cmp=[]\n",
    "        for val in range(samp):    \n",
    "            x=random.randint(1,1001)\n",
    "            y=random.randint(1,1001)\n",
    "            sample_values1.append(x)\n",
    "            sample_values2.append(y)\n",
    "            sample_values_cmp.append(x+imj*y)\n",
    "\n",
    "        mat=np.ndarray((samp,samp),dtype=complex)\n",
    "\n",
    "        direct1=dft(samp,mat)\n",
    "        dft_direct_time1+=direct1.transform_direct(sample_values1)\n",
    "\n",
    "        dft_1=direct1.dft_seq\n",
    "\n",
    "        direct2=dft(samp,mat)\n",
    "        dft_direct_time2+=direct2.transform_direct(sample_values2)\n",
    "\n",
    "        dft_2=direct2.dft_seq\n",
    "\n",
    "        fast=dft(samp,mat)\n",
    "        dft_fast_time+=fast.transform_fast(sample_values_cmp)\n",
    "\n",
    "    time_direct.append((dft_direct_time1+dft_direct_time2)/number_of_seq)\n",
    "    time_fast.append(dft_fast_time/number_of_seq)"
   ]
  },
  {
   "cell_type": "code",
   "execution_count": 5,
   "metadata": {},
   "outputs": [
    {
     "data": {
      "text/plain": [
       "[<matplotlib.lines.Line2D at 0x7f1d6304f128>]"
      ]
     },
     "execution_count": 5,
     "metadata": {},
     "output_type": "execute_result"
    },
    {
     "data": {
      "image/png": "[encoded data removed]",
      "text/plain": [
       "<Figure size 432x288 with 1 Axes>"
      ]
     },
     "metadata": {},
     "output_type": "display_data"
    }
   ],
   "source": [
    "plt.plot(np.array(num_of_samples),np.array(time_direct),'-g')\n",
    "plt.plot(np.array(num_of_samples),np.array(time_fast),'-r')"
   ]
  },
  {
   "cell_type": "code",
   "execution_count": null,
   "metadata": {},
   "outputs": [],
   "source": [
    "def haar(n):\n",
    "    H={}\n",
    "    if n == 2:\n",
    "        a=np.ndarray((2,2))\n",
    "        a[0][0]=1\n",
    "        a[0][1]=1\n",
    "        a[1][0]=1\n",
    "        a[1][1]=-1\n",
    "        return a\n",
    "    else:\n",
    "        H=np.ndarray((n,n))\n",
    "        D=haar(int(n/2))\n",
    "        for i in range(int(n/2)):\n",
    "            l=0\n",
    "            for j in range(int(n/2)):\n",
    "                x=(D[i][j]*np.array([1,1]))\n",
    "                for k in range(2):\n",
    "                    H[i][l]=x[k]\n",
    "                    l+=1\n",
    "                    \n",
    "        I=(np.identity(int(n/2)))*(2**((math.log(n/2,2))/2))\n",
    "        for i in range(int(n/2),n):\n",
    "            p=0\n",
    "            for j in range(int(n/2)):\n",
    "                y=I[i-int(n/2)][j]*np.array([1,-1])\n",
    "                for k in range(2):\n",
    "                    H[i][p]=y[k]\n",
    "                    p+=1\n",
    "        return H"
   ]
  }
 ],
 "metadata": {
  "kernelspec": {
   "display_name": "Python 3",
   "language": "python",
   "name": "python3"
  },
  "language_info": {
   "codemirror_mode": {
    "name": "ipython",
    "version": 3
   },
   "file_extension": ".py",
   "mimetype": "text/x-python",
   "name": "python",
   "nbconvert_exporter": "python",
   "pygments_lexer": "ipython3",
   "version": "3.5.2"
  }
 },
 "nbformat": 4,
 "nbformat_minor": 2
}
