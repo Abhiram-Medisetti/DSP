{
 "cells": [
  {
   "cell_type": "code",
   "execution_count": 1,
   "metadata": {},
   "outputs": [],
   "source": [
    "import math \n",
    "import cmath\n",
    "import matplotlib.pyplot as plt\n",
    "import random\n",
    "import numpy as np\n",
    "import time\n",
    "num_of_samples=1024\n",
    "num_of_zeros=[]\n",
    "for i in range(10):\n",
    "    num_of_zeros.append(i*10)\n",
    "pi=math.pi\n",
    "imj=complex(0,1)"
   ]
  },
  {
   "cell_type": "code",
   "execution_count": 2,
   "metadata": {},
   "outputs": [],
   "source": [
    "def haar(n):\n",
    "    H={}\n",
    "    if n == 2:\n",
    "        a=np.ndarray((2,2))\n",
    "        a[0][0]=1\n",
    "        a[0][1]=1\n",
    "        a[1][0]=1\n",
    "        a[1][1]=-1\n",
    "        return a\n",
    "    else:\n",
    "        H=np.ndarray((n,n))\n",
    "        D=haar(int(n/2))\n",
    "        for i in range(int(n/2)):\n",
    "            l=0\n",
    "            for j in range(int(n/2)):\n",
    "                x=(D[i][j]*np.array([1,1]))\n",
    "                for k in range(2):\n",
    "                    H[i][l]=x[k]\n",
    "                    l+=1\n",
    "                    \n",
    "        I=(np.identity(int(n/2)))*(2**((math.log(n/2,2))/2))\n",
    "        for i in range(int(n/2),n):\n",
    "            p=0\n",
    "            for j in range(int(n/2)):\n",
    "                y=I[i-int(n/2)][j]*np.array([1,-1])\n",
    "                for k in range(2):\n",
    "                    H[i][p]=y[k]\n",
    "                    p+=1\n",
    "        return H"
   ]
  },
  {
   "cell_type": "code",
   "execution_count": 3,
   "metadata": {},
   "outputs": [],
   "source": [
    "def dft_matrix(num_of_samples):\n",
    "    Mat_f=np.ndarray((num_of_samples,num_of_samples),dtype=complex)\n",
    "    for i in range(num_of_samples):\n",
    "        for j in range(num_of_samples):\n",
    "            Mat_f[i][j]=(cmath.exp(-2*imj*(pi)*((i*j/num_of_samples))))\n",
    "    return Mat_f\n",
    "\n",
    "def dct_matrix(num_of_samples):\n",
    "    Mat_c=np.ndarray((num_of_samples,num_of_samples))\n",
    "    for i in range(num_of_samples):\n",
    "        for j in range(num_of_samples):\n",
    "            Mat_c[i][j]=2*(math.cos(float(pi*i*(2*j+1))/(2*num_of_samples)))\n",
    "    return Mat_c\n",
    "\n",
    "def haar_matrix(num_of_samples):\n",
    "    Mat_h=np.ndarray((num_of_samples,num_of_samples))\n",
    "    Mat_h=haar(num_of_samples)\n",
    "    return Mat_h"
   ]
  },
  {
   "cell_type": "code",
   "execution_count": 4,
   "metadata": {},
   "outputs": [],
   "source": [
    "def dft(sample_seq):\n",
    "    F=dft_matrix(num_of_samples)\n",
    "    dft_seq=np.matmul(F,sample_seq)\n",
    "    return dft_seq\n",
    "\n",
    "def dct(sample_seq):\n",
    "    C=dct_matrix(num_of_samples)\n",
    "    dct_seq=np.matmul(C,sample_seq)\n",
    "    return dct_seq\n",
    "\n",
    "def hr(sample_seq):\n",
    "    H=haar_matrix(num_of_samples)\n",
    "    hr_seq=np.matmul(H,sample_seq)\n",
    "    return hr_seq"
   ]
  },
  {
   "cell_type": "code",
   "execution_count": 5,
   "metadata": {},
   "outputs": [],
   "source": [
    "def dft_inv_mat(num_of_samples):\n",
    "    Mat_inv_f=np.ndarray((num_of_samples,num_of_samples),dtype=complex)\n",
    "    for i in range(num_of_samples):\n",
    "        for j in range(num_of_samples):\n",
    "            Mat_inv_f[i][j]=(cmath.exp(2*imj*(pi)*((i*j/num_of_samples))))/num_of_samples\n",
    "    return Mat_inv_f\n",
    "\n",
    "def dct_inv_mat(num_of_samples):\n",
    "    Mat_inv_c=np.ndarray((num_of_samples,num_of_samples))\n",
    "    for i in range(num_of_samples):\n",
    "        for j in range(num_of_samples):\n",
    "            if j == 0:\n",
    "                alpha=0.5\n",
    "            else:\n",
    "                alpha=1\n",
    "            Mat_inv_c[i][j]=alpha*(math.cos(float(pi*j*(2*i+1))/(2*num_of_samples)))/num_of_samples\n",
    "\n",
    "    return Mat_inv_c\n",
    "\n",
    "def haar_inv_mat(num_of_samples):\n",
    "    Mat_inv_h=np.ndarray((num_of_samples,num_of_samples))\n",
    "    X=haar(num_of_samples)\n",
    "    Mat_inv_h=(X.transpose())/num_of_samples\n",
    "\n",
    "    return Mat_inv_h"
   ]
  },
  {
   "cell_type": "code",
   "execution_count": 6,
   "metadata": {},
   "outputs": [],
   "source": [
    "def dft_inv(fou_seq,zeros):\n",
    "    F_i=dft_inv_mat(num_of_samples)\n",
    "    fourier_seq_compressed=fou_seq\n",
    "    \n",
    "    for j in range(zeros):\n",
    "        k=int((num_of_samples + 1 - zeros)/2 + j)\n",
    "        fourier_seq_compressed[k]=0\n",
    "\n",
    "    dft_inv_seq=np.matmul(F_i,fourier_seq_compressed)\n",
    "    return dft_inv_seq\n",
    "\n",
    "def dct_inv(cos_seq,zeros):\n",
    "    C_i=dct_inv_mat(num_of_samples)\n",
    "    cosine_seq_compressed=cos_seq\n",
    "    for j in range(zeros):\n",
    "        cosine_seq_compressed[num_of_samples-1-j]=0\n",
    "\n",
    "    dct_inv_seq=np.matmul(C_i,cosine_seq_compressed)\n",
    "    return dct_inv_seq\n",
    "\n",
    "def haar_inv(haar_seq,zeros):\n",
    "    H_i=haar_inv_mat(num_of_samples)\n",
    "    haar_seq_compressed=haar_seq\n",
    "    for j in range(zeros):\n",
    "        haar_seq_compressed[num_of_samples-1-j]=0\n",
    "    haar_inv_seq=np.matmul(H_i,haar_seq_compressed)\n",
    "    return haar_inv_seq"
   ]
  },
  {
   "cell_type": "code",
   "execution_count": 7,
   "metadata": {},
   "outputs": [],
   "source": [
    "sample_seq=[]\n",
    "for i in range(num_of_samples):\n",
    "    sample_seq.append(random.randint(1,1001))\n",
    "    \n",
    "dft_of_seq=dft(sample_seq)\n",
    "dct_of_seq=dct(sample_seq)\n",
    "haar_of_seq=hr(sample_seq)"
   ]
  },
  {
   "cell_type": "code",
   "execution_count": 8,
   "metadata": {},
   "outputs": [],
   "source": [
    "E_DCT=[]\n",
    "E_DFT=[]\n",
    "E_HAAR=[]\n",
    "for zeros in num_of_zeros:\n",
    "    samp_seq_fourier=dft_inv(dft_of_seq,zeros)\n",
    "    samp_seq_cosine=dct_inv(dct_of_seq,zeros)\n",
    "    samp_seq_haar=haar_inv(haar_of_seq,zeros)\n",
    "    err_dct=0\n",
    "    err_dft=0\n",
    "    err_haar=0\n",
    "    for i in range(num_of_samples):\n",
    "        err_dct+=((sample_seq[i]-samp_seq_cosine[i]))**2\n",
    "    err_dct/=num_of_samples\n",
    "    E_DCT.append(err_dct)\n",
    "\n",
    "    for i in range(num_of_samples):\n",
    "        err_dft+=(abs(sample_seq[i]-samp_seq_fourier[i]))**2\n",
    "    err_dft/=num_of_samples\n",
    "    E_DFT.append(err_dft)\n",
    "    \n",
    "    for i in range(num_of_samples):\n",
    "        err_haar+=(abs(sample_seq[i]-samp_seq_haar[i]))**2\n",
    "    err_haar/=num_of_samples\n",
    "    E_HAAR.append(err_haar)"
   ]
  },
  {
   "cell_type": "code",
   "execution_count": 9,
   "metadata": {},
   "outputs": [
    {
     "data": {
      "text/plain": [
       "[<matplotlib.lines.Line2D at 0x7fbce44df9e8>]"
      ]
     },
     "execution_count": 9,
     "metadata": {},
     "output_type": "execute_result"
    },
    {
     "data": {
      "image/png": "[encoded data removed]",
      "text/plain": [
       "<Figure size 432x288 with 1 Axes>"
      ]
     },
     "metadata": {},
     "output_type": "display_data"
    }
   ],
   "source": [
    "plt.plot(np.array(num_of_zeros),np.array(E_DFT),'-g')\n",
    "plt.plot(np.array(num_of_zeros),np.array(E_DCT),'-r')\n",
    "plt.plot(np.array(num_of_zeros),np.array(E_HAAR),'-y')"
   ]
  },
  {
   "cell_type": "code",
   "execution_count": null,
   "metadata": {},
   "outputs": [],
   "source": []
  }
 ],
 "metadata": {
  "kernelspec": {
   "display_name": "Python 3",
   "language": "python",
   "name": "python3"
  },
  "language_info": {
   "codemirror_mode": {
    "name": "ipython",
    "version": 3
   },
   "file_extension": ".py",
   "mimetype": "text/x-python",
   "name": "python",
   "nbconvert_exporter": "python",
   "pygments_lexer": "ipython3",
   "version": "3.5.2"
  }
 },
 "nbformat": 4,
 "nbformat_minor": 2
}
